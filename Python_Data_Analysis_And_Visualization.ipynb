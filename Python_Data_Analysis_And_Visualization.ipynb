{
 "cells": [
  {
   "cell_type": "markdown",
   "id": "58365f35",
   "metadata": {},
   "source": [
    "# Python Data Analysis and Visualization - Quick guide notes\n",
    "\n",
    "Here is my notes of learning python data analysis based on astronomical data, so just used if you want to learn more how you can use it in development :)"
   ]
  },
  {
   "cell_type": "code",
   "execution_count": null,
   "id": "78860af5-6645-476b-9338-be4e19680fcf",
   "metadata": {},
   "outputs": [],
   "source": []
  }
 ],
 "metadata": {
  "kernelspec": {
   "display_name": "Python 3 (ipykernel)",
   "language": "python",
   "name": "python3"
  },
  "language_info": {
   "codemirror_mode": {
    "name": "ipython",
    "version": 3
   },
   "file_extension": ".py",
   "mimetype": "text/x-python",
   "name": "python",
   "nbconvert_exporter": "python",
   "pygments_lexer": "ipython3",
   "version": "3.10.1"
  }
 },
 "nbformat": 4,
 "nbformat_minor": 5
}
