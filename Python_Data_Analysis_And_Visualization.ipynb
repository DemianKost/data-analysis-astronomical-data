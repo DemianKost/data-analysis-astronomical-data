{
 "cells": [
  {
   "cell_type": "markdown",
   "id": "58365f35",
   "metadata": {},
   "source": [
    "# Python Data Analysis and Visualization - Quick guide notes\n",
    "\n",
    "Here is my notes of learning python data analysis based on astronomical data, so just used if you want to learn more how you can use it in development :)\n",
    "\n",
    "## 1. Tabular Data\n",
    "\n",
    "First of all, let's learn how we can work with tabular data and how we can analyse tables - such as Exel or CSV (it's really common way to save some big amount of data).\n",
    "\n",
    "### 1.1 Install all dependencies and import libratirs\n",
    "\n",
    "Before we gonna begin, let's **install all dependencies** that we need:"
   ]
  },
  {
   "cell_type": "code",
   "execution_count": 1,
   "id": "78860af5-6645-476b-9338-be4e19680fcf",
   "metadata": {},
   "outputs": [
    {
     "name": "stdout",
     "output_type": "stream",
     "text": [
      "Note: you may need to restart the kernel to use updated packages.\n"
     ]
    }
   ],
   "source": [
    "# Run this command to install all libraries for development\n",
    "%pip install -q pandas numpy seaborn matplotlib"
   ]
  },
  {
   "cell_type": "code",
   "execution_count": 2,
   "id": "593a5007",
   "metadata": {},
   "outputs": [],
   "source": [
    "# Import all libraries\n",
    "import os\n",
    "import pandas as pd\n",
    "import numpy as np\n",
    "import seaborn as sns\n",
    "import matplotlib.pyplot as plt"
   ]
  },
  {
   "cell_type": "markdown",
   "id": "85d4c4bd",
   "metadata": {},
   "source": [
    "### 1.2 Time to explore dataset\n",
    "\n",
    "All data files which we are going to read in this notebook are saved inside the `data` folder. Let's read CSV file and create a pandas dataframe and let's see which functions we can use to work with dataframes."
   ]
  },
  {
   "cell_type": "code",
   "execution_count": 3,
   "id": "f8622c7c",
   "metadata": {},
   "outputs": [
    {
     "data": {
      "text/html": [
       "<div>\n",
       "<style scoped>\n",
       "    .dataframe tbody tr th:only-of-type {\n",
       "        vertical-align: middle;\n",
       "    }\n",
       "\n",
       "    .dataframe tbody tr th {\n",
       "        vertical-align: top;\n",
       "    }\n",
       "\n",
       "    .dataframe thead th {\n",
       "        text-align: right;\n",
       "    }\n",
       "</style>\n",
       "<table border=\"1\" class=\"dataframe\">\n",
       "  <thead>\n",
       "    <tr style=\"text-align: right;\">\n",
       "      <th></th>\n",
       "      <th>Temperature (K)</th>\n",
       "      <th>Luminosity(L/Lo)</th>\n",
       "      <th>Radius(R/Ro)</th>\n",
       "      <th>Absolute magnitude(Mv)</th>\n",
       "      <th>Star type</th>\n",
       "      <th>Star color</th>\n",
       "      <th>Spectral Class</th>\n",
       "    </tr>\n",
       "  </thead>\n",
       "  <tbody>\n",
       "    <tr>\n",
       "      <th>0</th>\n",
       "      <td>3068</td>\n",
       "      <td>0.002400</td>\n",
       "      <td>0.1700</td>\n",
       "      <td>16.12</td>\n",
       "      <td>0</td>\n",
       "      <td>Red</td>\n",
       "      <td>M</td>\n",
       "    </tr>\n",
       "    <tr>\n",
       "      <th>1</th>\n",
       "      <td>3042</td>\n",
       "      <td>0.000500</td>\n",
       "      <td>0.1542</td>\n",
       "      <td>16.60</td>\n",
       "      <td>0</td>\n",
       "      <td>Red</td>\n",
       "      <td>M</td>\n",
       "    </tr>\n",
       "    <tr>\n",
       "      <th>2</th>\n",
       "      <td>2600</td>\n",
       "      <td>0.000300</td>\n",
       "      <td>0.1020</td>\n",
       "      <td>18.70</td>\n",
       "      <td>0</td>\n",
       "      <td>Red</td>\n",
       "      <td>M</td>\n",
       "    </tr>\n",
       "    <tr>\n",
       "      <th>3</th>\n",
       "      <td>2800</td>\n",
       "      <td>0.000200</td>\n",
       "      <td>0.1600</td>\n",
       "      <td>16.65</td>\n",
       "      <td>0</td>\n",
       "      <td>Red</td>\n",
       "      <td>M</td>\n",
       "    </tr>\n",
       "    <tr>\n",
       "      <th>4</th>\n",
       "      <td>1939</td>\n",
       "      <td>0.000138</td>\n",
       "      <td>0.1030</td>\n",
       "      <td>20.06</td>\n",
       "      <td>0</td>\n",
       "      <td>Red</td>\n",
       "      <td>M</td>\n",
       "    </tr>\n",
       "  </tbody>\n",
       "</table>\n",
       "</div>"
      ],
      "text/plain": [
       "   Temperature (K)  Luminosity(L/Lo)  Radius(R/Ro)  Absolute magnitude(Mv)  \\\n",
       "0             3068          0.002400        0.1700                   16.12   \n",
       "1             3042          0.000500        0.1542                   16.60   \n",
       "2             2600          0.000300        0.1020                   18.70   \n",
       "3             2800          0.000200        0.1600                   16.65   \n",
       "4             1939          0.000138        0.1030                   20.06   \n",
       "\n",
       "   Star type Star color Spectral Class  \n",
       "0          0        Red              M  \n",
       "1          0        Red              M  \n",
       "2          0        Red              M  \n",
       "3          0        Red              M  \n",
       "4          0        Red              M  "
      ]
     },
     "execution_count": 3,
     "metadata": {},
     "output_type": "execute_result"
    }
   ],
   "source": [
    "# First, let's read CSV file that we need\n",
    "star_df = pd.read_csv('data/cleaned_star_data.csv') # It will create a dataframe\n",
    "star_df.head() # Show first 5 rows of dataframe"
   ]
  },
  {
   "cell_type": "code",
   "execution_count": 4,
   "id": "71013f1a",
   "metadata": {},
   "outputs": [
    {
     "data": {
      "text/html": [
       "<div>\n",
       "<style scoped>\n",
       "    .dataframe tbody tr th:only-of-type {\n",
       "        vertical-align: middle;\n",
       "    }\n",
       "\n",
       "    .dataframe tbody tr th {\n",
       "        vertical-align: top;\n",
       "    }\n",
       "\n",
       "    .dataframe thead th {\n",
       "        text-align: right;\n",
       "    }\n",
       "</style>\n",
       "<table border=\"1\" class=\"dataframe\">\n",
       "  <thead>\n",
       "    <tr style=\"text-align: right;\">\n",
       "      <th></th>\n",
       "      <th>Temperature (K)</th>\n",
       "      <th>Luminosity(L/Lo)</th>\n",
       "      <th>Radius(R/Ro)</th>\n",
       "      <th>Absolute magnitude(Mv)</th>\n",
       "      <th>Star type</th>\n",
       "      <th>Star color</th>\n",
       "      <th>Spectral Class</th>\n",
       "    </tr>\n",
       "  </thead>\n",
       "  <tbody>\n",
       "    <tr>\n",
       "      <th>108</th>\n",
       "      <td>24345</td>\n",
       "      <td>142000.00000</td>\n",
       "      <td>57.000</td>\n",
       "      <td>-6.24</td>\n",
       "      <td>4</td>\n",
       "      <td>Blue</td>\n",
       "      <td>O</td>\n",
       "    </tr>\n",
       "    <tr>\n",
       "      <th>115</th>\n",
       "      <td>3553</td>\n",
       "      <td>145000.00000</td>\n",
       "      <td>1324.000</td>\n",
       "      <td>-11.03</td>\n",
       "      <td>5</td>\n",
       "      <td>Red</td>\n",
       "      <td>M</td>\n",
       "    </tr>\n",
       "    <tr>\n",
       "      <th>41</th>\n",
       "      <td>3365</td>\n",
       "      <td>340000.00000</td>\n",
       "      <td>23.000</td>\n",
       "      <td>-6.20</td>\n",
       "      <td>4</td>\n",
       "      <td>Red</td>\n",
       "      <td>M</td>\n",
       "    </tr>\n",
       "    <tr>\n",
       "      <th>102</th>\n",
       "      <td>23000</td>\n",
       "      <td>127000.00000</td>\n",
       "      <td>36.000</td>\n",
       "      <td>-5.76</td>\n",
       "      <td>4</td>\n",
       "      <td>Blue</td>\n",
       "      <td>O</td>\n",
       "    </tr>\n",
       "    <tr>\n",
       "      <th>113</th>\n",
       "      <td>3399</td>\n",
       "      <td>117000.00000</td>\n",
       "      <td>1486.000</td>\n",
       "      <td>-10.92</td>\n",
       "      <td>5</td>\n",
       "      <td>Red</td>\n",
       "      <td>M</td>\n",
       "    </tr>\n",
       "    <tr>\n",
       "      <th>9</th>\n",
       "      <td>2700</td>\n",
       "      <td>0.00018</td>\n",
       "      <td>0.130</td>\n",
       "      <td>16.05</td>\n",
       "      <td>0</td>\n",
       "      <td>Red</td>\n",
       "      <td>M</td>\n",
       "    </tr>\n",
       "    <tr>\n",
       "      <th>13</th>\n",
       "      <td>3628</td>\n",
       "      <td>0.00550</td>\n",
       "      <td>0.393</td>\n",
       "      <td>10.48</td>\n",
       "      <td>1</td>\n",
       "      <td>Red</td>\n",
       "      <td>M</td>\n",
       "    </tr>\n",
       "    <tr>\n",
       "      <th>237</th>\n",
       "      <td>8829</td>\n",
       "      <td>537493.00000</td>\n",
       "      <td>1423.000</td>\n",
       "      <td>-10.73</td>\n",
       "      <td>5</td>\n",
       "      <td>White</td>\n",
       "      <td>A</td>\n",
       "    </tr>\n",
       "    <tr>\n",
       "      <th>160</th>\n",
       "      <td>25390</td>\n",
       "      <td>223000.00000</td>\n",
       "      <td>57.000</td>\n",
       "      <td>-5.92</td>\n",
       "      <td>4</td>\n",
       "      <td>Blue</td>\n",
       "      <td>O</td>\n",
       "    </tr>\n",
       "    <tr>\n",
       "      <th>51</th>\n",
       "      <td>3750</td>\n",
       "      <td>283000.00000</td>\n",
       "      <td>1260.000</td>\n",
       "      <td>-7.63</td>\n",
       "      <td>5</td>\n",
       "      <td>Red</td>\n",
       "      <td>M</td>\n",
       "    </tr>\n",
       "  </tbody>\n",
       "</table>\n",
       "</div>"
      ],
      "text/plain": [
       "     Temperature (K)  Luminosity(L/Lo)  Radius(R/Ro)  Absolute magnitude(Mv)  \\\n",
       "108            24345      142000.00000        57.000                   -6.24   \n",
       "115             3553      145000.00000      1324.000                  -11.03   \n",
       "41              3365      340000.00000        23.000                   -6.20   \n",
       "102            23000      127000.00000        36.000                   -5.76   \n",
       "113             3399      117000.00000      1486.000                  -10.92   \n",
       "9               2700           0.00018         0.130                   16.05   \n",
       "13              3628           0.00550         0.393                   10.48   \n",
       "237             8829      537493.00000      1423.000                  -10.73   \n",
       "160            25390      223000.00000        57.000                   -5.92   \n",
       "51              3750      283000.00000      1260.000                   -7.63   \n",
       "\n",
       "     Star type Star color Spectral Class  \n",
       "108          4       Blue              O  \n",
       "115          5        Red              M  \n",
       "41           4        Red              M  \n",
       "102          4       Blue              O  \n",
       "113          5        Red              M  \n",
       "9            0        Red              M  \n",
       "13           1        Red              M  \n",
       "237          5      White              A  \n",
       "160          4       Blue              O  \n",
       "51           5        Red              M  "
      ]
     },
     "execution_count": 4,
     "metadata": {},
     "output_type": "execute_result"
    }
   ],
   "source": [
    "# Get 10 random rows from this table dataframe\n",
    "star_df.sample(10)"
   ]
  },
  {
   "cell_type": "code",
   "execution_count": 5,
   "id": "8e5da13d",
   "metadata": {},
   "outputs": [
    {
     "name": "stdout",
     "output_type": "stream",
     "text": [
      "<class 'pandas.core.frame.DataFrame'>\n",
      "RangeIndex: 240 entries, 0 to 239\n",
      "Data columns (total 7 columns):\n",
      " #   Column                  Non-Null Count  Dtype  \n",
      "---  ------                  --------------  -----  \n",
      " 0   Temperature (K)         240 non-null    int64  \n",
      " 1   Luminosity(L/Lo)        240 non-null    float64\n",
      " 2   Radius(R/Ro)            240 non-null    float64\n",
      " 3   Absolute magnitude(Mv)  240 non-null    float64\n",
      " 4   Star type               240 non-null    int64  \n",
      " 5   Star color              240 non-null    object \n",
      " 6   Spectral Class          240 non-null    object \n",
      "dtypes: float64(3), int64(2), object(2)\n",
      "memory usage: 13.2+ KB\n"
     ]
    }
   ],
   "source": [
    "# Get general information from the dataframe\n",
    "star_df.info()"
   ]
  },
  {
   "cell_type": "markdown",
   "id": "71c141b1",
   "metadata": {},
   "source": [
    "### 1.3 Save visualizations"
   ]
  },
  {
   "cell_type": "code",
   "execution_count": 6,
   "id": "35d78703",
   "metadata": {},
   "outputs": [],
   "source": [
    "# Create directory for visualizations\n",
    "folder_name = 'star_plots'\n",
    "os.makedirs(folder_name, exist_ok=True)"
   ]
  },
  {
   "cell_type": "code",
   "execution_count": 7,
   "id": "7f5c7b2c",
   "metadata": {},
   "outputs": [],
   "source": [
    "base_dir = f'{folder_name}/'"
   ]
  },
  {
   "cell_type": "markdown",
   "id": "214ad547",
   "metadata": {},
   "source": [
    "### 1.4 Visualize the count of stars for each type"
   ]
  },
  {
   "cell_type": "code",
   "execution_count": 12,
   "id": "9b1bc974",
   "metadata": {},
   "outputs": [
    {
     "data": {
      "text/plain": [
       "0      0\n",
       "1      0\n",
       "2      0\n",
       "3      0\n",
       "4      0\n",
       "      ..\n",
       "235    5\n",
       "236    5\n",
       "237    5\n",
       "238    5\n",
       "239    5\n",
       "Name: Star type, Length: 240, dtype: int64"
      ]
     },
     "execution_count": 12,
     "metadata": {},
     "output_type": "execute_result"
    }
   ],
   "source": [
    "# Show all star types (presented by number)\n",
    "star_df['Star type']"
   ]
  },
  {
   "cell_type": "code",
   "execution_count": 13,
   "id": "563d4d6a",
   "metadata": {},
   "outputs": [
    {
     "data": {
      "text/plain": [
       "Star type\n",
       "0    40\n",
       "1    40\n",
       "2    40\n",
       "3    40\n",
       "4    40\n",
       "5    40\n",
       "Name: count, dtype: int64"
      ]
     },
     "execution_count": 13,
     "metadata": {},
     "output_type": "execute_result"
    }
   ],
   "source": [
    "# Count all star types in data frame\n",
    "star_df['Star type'].value_counts()"
   ]
  },
  {
   "cell_type": "markdown",
   "id": "c6a71e0f",
   "metadata": {},
   "source": [
    "#### Matplotlib for bar char"
   ]
  },
  {
   "cell_type": "code",
   "execution_count": 14,
   "id": "ef43b2ee",
   "metadata": {},
   "outputs": [
    {
     "data": {
      "image/png": "[encoded data removed]",
      "text/plain": [
       "<Figure size 640x480 with 1 Axes>"
      ]
     },
     "metadata": {},
     "output_type": "display_data"
    }
   ],
   "source": [
    "# Now let's visualize all this data by matplolib\n",
    "star_df['Star type'].value_counts().plot(kind='bar')\n",
    "plt.show()"
   ]
  },
  {
   "cell_type": "markdown",
   "id": "bb566518",
   "metadata": {},
   "source": [
    "### 1.5 Customize plot visualization"
   ]
  },
  {
   "cell_type": "code",
   "execution_count": 42,
   "id": "f08bc497",
   "metadata": {},
   "outputs": [
    {
     "data": {
      "image/png": "[encoded data removed]",
      "text/plain": [
       "<Figure size 500x430 with 1 Axes>"
      ]
     },
     "metadata": {},
     "output_type": "display_data"
    }
   ],
   "source": [
    "# Customize plot\n",
    "plt.figure(figsize=(5,4.3)) # Change default size of plot\n",
    "plt.style.use('dark_background') # Change default background color, set 'default' for default style\n",
    "ax = star_df['Star type'].value_counts().plot(kind='bar', color=['brown', 'red', 'blue', 'yellow', 'pink', 'green']) # Show bar plot and change bar colors\n",
    "ax.bar_label(ax.containers[0], color='red') # Show bar plot value labels for X and change label color\n",
    "plt.title('Visualize star types', color='blue', weight='bold') # Add title to the plot and make it blue/bold\n",
    "plt.ylabel('# of stars', color='yellow') # Add name for y label\n",
    "plt.yticks(color='red') # Change color of the y ticks\n",
    "plt.xticks(color='lime',\n",
    "           ticks=[0, 1, 2, 3, 4, 5],\n",
    "           labels=[\"Brown\\nDwarf\", \"Red\\nDwarf\", \"White\\nDwarf\", \"Main\\nSequence\", \"Supergiants\", \"Hypergiants\"],\n",
    "           rotation=45)\n",
    "plt.xlabel('Star type', color='yellow') # Do the same thing that we did for y label\n",
    "plt.show() "
   ]
  }
 ],
 "metadata": {
  "kernelspec": {
   "display_name": "Python 3 (ipykernel)",
   "language": "python",
   "name": "python3"
  },
  "language_info": {
   "codemirror_mode": {
    "name": "ipython",
    "version": 3
   },
   "file_extension": ".py",
   "mimetype": "text/x-python",
   "name": "python",
   "nbconvert_exporter": "python",
   "pygments_lexer": "ipython3",
   "version": "3.10.1"
  }
 },
 "nbformat": 4,
 "nbformat_minor": 5
}
